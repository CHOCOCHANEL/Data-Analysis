{
  "nbformat": 4,
  "nbformat_minor": 0,
  "metadata": {
    "colab": {
      "provenance": [],
      "authorship_tag": "ABX9TyOXQGf0ZbW9g1w0BhiTWho2",
      "include_colab_link": true
    },
    "kernelspec": {
      "name": "python3",
      "display_name": "Python 3"
    },
    "language_info": {
      "name": "python"
    }
  },
  "cells": [
    {
      "cell_type": "markdown",
      "metadata": {
        "id": "view-in-github",
        "colab_type": "text"
      },
      "source": [
        "<a href=\"https://colab.research.google.com/github/CHOCOCHANEL/Data-Analysis/blob/main/Python_(Pandas).ipynb\" target=\"_parent\"><img src=\"https://colab.research.google.com/assets/colab-badge.svg\" alt=\"Open In Colab\"/></a>"
      ]
    },
    {
      "cell_type": "markdown",
      "source": [
        "## NumPy\n",
        "* NumPy’s main object is the homogeneous multidimensional array. It is a table of elements (usually numbers), all of the same type, indexed by a tuple of non-negative integers.\n",
        "* In NumPy dimensions are called axes."
      ],
      "metadata": {
        "id": "8hpJ8D7m5PPm"
      }
    },
    {
      "cell_type": "code",
      "execution_count": null,
      "metadata": {
        "id": "F5R9ueeH1eR_"
      },
      "outputs": [],
      "source": [
        "import numpy as np"
      ]
    },
    {
      "cell_type": "code",
      "source": [
        "arr = np.array([1, 2, 3, 4, 5])\n",
        "print(arr, ' type: ', type(arr), ' shape: ', arr.shape)\n",
        "print('arr.ndim: ', arr.ndim)"
      ],
      "metadata": {
        "colab": {
          "base_uri": "https://localhost:8080/"
        },
        "id": "YHRJeAOG4zRm",
        "outputId": "586c151e-93b1-4e4a-ef3a-6b52e3e5d73a"
      },
      "execution_count": null,
      "outputs": [
        {
          "output_type": "stream",
          "name": "stdout",
          "text": [
            "[1 2 3 4 5]  type:  <class 'numpy.ndarray'>  shape:  (5,)\n",
            "arr.ndim:  1\n"
          ]
        }
      ]
    },
    {
      "cell_type": "code",
      "source": [
        "arr = np.array([[1, 2, 3, 4, 5], \n",
        "                [6, 7, 8, 9, 10]])\n",
        "print(arr, ' type: ', type(arr), ' shape: ', arr.shape)\n",
        "print('arr.ndim: ', arr.ndim)"
      ],
      "metadata": {
        "colab": {
          "base_uri": "https://localhost:8080/"
        },
        "id": "KEbvhGBn59CJ",
        "outputId": "8b567251-1de9-46d4-9029-bc4264dc4388"
      },
      "execution_count": null,
      "outputs": [
        {
          "output_type": "stream",
          "name": "stdout",
          "text": [
            "[[ 1  2  3  4  5]\n",
            " [ 6  7  8  9 10]]  type:  <class 'numpy.ndarray'>  shape:  (2, 5)\n",
            "arr.ndim:  2\n"
          ]
        }
      ]
    },
    {
      "cell_type": "markdown",
      "source": [
        "#### np.arange\n",
        "* To create sequences of numbers, NumPy provides the arange function which is analogous to the Python built-in range, but returns an array."
      ],
      "metadata": {
        "id": "Lz62kAix78GD"
      }
    },
    {
      "cell_type": "code",
      "source": [
        "np.arange(10, 30, 5)"
      ],
      "metadata": {
        "colab": {
          "base_uri": "https://localhost:8080/"
        },
        "id": "zBuB7fop8Cfm",
        "outputId": "0a118d8e-c187-41c4-fd47-3cf0cc18339a"
      },
      "execution_count": null,
      "outputs": [
        {
          "output_type": "execute_result",
          "data": {
            "text/plain": [
              "array([10, 15, 20, 25])"
            ]
          },
          "metadata": {},
          "execution_count": 9
        }
      ]
    },
    {
      "cell_type": "markdown",
      "source": [
        "#### Array Layout\n",
        "\n",
        "* When you print an array, NumPy displays it in a similar way to nested lists, but with the following layout:\n",
        ">- the last axis is printed from left to right,\n",
        ">- the second-to-last is printed from top to bottom,\n",
        ">- the rest are also printed from top to bottom, with each slice separated from the next by an empty line."
      ],
      "metadata": {
        "id": "fBctGCij9r3A"
      }
    },
    {
      "cell_type": "code",
      "source": [
        "a = np.arange(6)\n",
        "a"
      ],
      "metadata": {
        "colab": {
          "base_uri": "https://localhost:8080/"
        },
        "id": "so99pqGm88fc",
        "outputId": "2bd3be2b-6099-468b-c283-1c81ca9b9a70"
      },
      "execution_count": null,
      "outputs": [
        {
          "output_type": "execute_result",
          "data": {
            "text/plain": [
              "array([0, 1, 2, 3, 4, 5])"
            ]
          },
          "metadata": {},
          "execution_count": 10
        }
      ]
    },
    {
      "cell_type": "code",
      "source": [
        "b = np.arange(12).reshape(4, 3) #2d array\n",
        "b"
      ],
      "metadata": {
        "colab": {
          "base_uri": "https://localhost:8080/"
        },
        "id": "2Y98n6CJ99KX",
        "outputId": "efbf2f75-9592-4c77-9d99-da53fb1f2b14"
      },
      "execution_count": null,
      "outputs": [
        {
          "output_type": "execute_result",
          "data": {
            "text/plain": [
              "array([[ 0,  1,  2],\n",
              "       [ 3,  4,  5],\n",
              "       [ 6,  7,  8],\n",
              "       [ 9, 10, 11]])"
            ]
          },
          "metadata": {},
          "execution_count": 11
        }
      ]
    },
    {
      "cell_type": "code",
      "source": [
        "c = np.arange(24).reshape(2, 3, 4) #3d array\n",
        "c"
      ],
      "metadata": {
        "colab": {
          "base_uri": "https://localhost:8080/"
        },
        "id": "cYaozJfl-C6t",
        "outputId": "879d6a33-6e03-4a37-fb2c-962039a6f858"
      },
      "execution_count": null,
      "outputs": [
        {
          "output_type": "execute_result",
          "data": {
            "text/plain": [
              "array([[[ 0,  1,  2,  3],\n",
              "        [ 4,  5,  6,  7],\n",
              "        [ 8,  9, 10, 11]],\n",
              "\n",
              "       [[12, 13, 14, 15],\n",
              "        [16, 17, 18, 19],\n",
              "        [20, 21, 22, 23]]])"
            ]
          },
          "metadata": {},
          "execution_count": 13
        }
      ]
    },
    {
      "cell_type": "markdown",
      "source": [
        "#### Flatten\n",
        "* When using deep learning networks such as CNN(Convolutional Neural Networks), you need to make input data into flattened form."
      ],
      "metadata": {
        "id": "VduXs3Ka-0Rg"
      }
    },
    {
      "cell_type": "code",
      "source": [
        "a = np.arange(12).reshape(4, 3) #2d array\n",
        "flattened_a = a.flatten()\n",
        "print(a)\n",
        "print(flattened_a)\n",
        "print(flattened_a.shape, flattened_a.ndim)"
      ],
      "metadata": {
        "colab": {
          "base_uri": "https://localhost:8080/"
        },
        "id": "kxApozKx-Hwn",
        "outputId": "080bfb49-2715-4bf0-c338-ab0947fa9dab"
      },
      "execution_count": null,
      "outputs": [
        {
          "output_type": "stream",
          "name": "stdout",
          "text": [
            "[[ 0  1  2]\n",
            " [ 3  4  5]\n",
            " [ 6  7  8]\n",
            " [ 9 10 11]]\n",
            "[ 0  1  2  3  4  5  6  7  8  9 10 11]\n",
            "(12,) 1\n"
          ]
        }
      ]
    },
    {
      "cell_type": "markdown",
      "source": [
        "#### Basic Linear Algebra\n",
        "* `cross`, `dot`, `outer`, `linalg.svd`, `vdot`"
      ],
      "metadata": {
        "id": "vCanK48m_uqp"
      }
    },
    {
      "cell_type": "code",
      "source": [
        "arr = np.array([[1, 2, 3],\n",
        "                [4, 5, 6]])\n",
        "arr"
      ],
      "metadata": {
        "colab": {
          "base_uri": "https://localhost:8080/"
        },
        "id": "tWAbZQPl_X-v",
        "outputId": "eaa54ffc-8be3-4b2c-8dd3-f022ef24a44c"
      },
      "execution_count": null,
      "outputs": [
        {
          "output_type": "execute_result",
          "data": {
            "text/plain": [
              "array([[1, 2, 3],\n",
              "       [4, 5, 6]])"
            ]
          },
          "metadata": {},
          "execution_count": 15
        }
      ]
    },
    {
      "cell_type": "code",
      "source": [
        "np.transpose(arr)"
      ],
      "metadata": {
        "colab": {
          "base_uri": "https://localhost:8080/"
        },
        "id": "Rd3Qty5EAOCT",
        "outputId": "1e3248af-a910-4611-d7cb-f11a0f5face4"
      },
      "execution_count": null,
      "outputs": [
        {
          "output_type": "execute_result",
          "data": {
            "text/plain": [
              "array([[1, 4],\n",
              "       [2, 5],\n",
              "       [3, 6]])"
            ]
          },
          "metadata": {},
          "execution_count": 16
        }
      ]
    },
    {
      "cell_type": "markdown",
      "source": [
        "#### Basic Statistics\n",
        "* `cov`, `mean`, `std`, `var`"
      ],
      "metadata": {
        "id": "TwVptNOIAUor"
      }
    },
    {
      "cell_type": "code",
      "source": [
        "x = np.zeros((2, 512*512), dtype=np.float64)\n",
        "x[0, :] = 1.0\n",
        "x[1, :] = 0.3\n",
        "x"
      ],
      "metadata": {
        "colab": {
          "base_uri": "https://localhost:8080/"
        },
        "id": "GTDRazV_ARB5",
        "outputId": "560dee29-e897-4462-80f4-00b6a9a74d95"
      },
      "execution_count": null,
      "outputs": [
        {
          "output_type": "execute_result",
          "data": {
            "text/plain": [
              "array([[1. , 1. , 1. , ..., 1. , 1. , 1. ],\n",
              "       [0.3, 0.3, 0.3, ..., 0.3, 0.3, 0.3]])"
            ]
          },
          "metadata": {},
          "execution_count": 18
        }
      ]
    },
    {
      "cell_type": "code",
      "source": [
        "print(np.mean(x))"
      ],
      "metadata": {
        "colab": {
          "base_uri": "https://localhost:8080/"
        },
        "id": "7F7Qb7AJA1TK",
        "outputId": "b80e2574-2db6-405f-a5de-923c9523b08d"
      },
      "execution_count": null,
      "outputs": [
        {
          "output_type": "stream",
          "name": "stdout",
          "text": [
            "0.6499999999999986\n"
          ]
        }
      ]
    },
    {
      "cell_type": "code",
      "source": [
        "print(np.max(x), np.min(x))"
      ],
      "metadata": {
        "colab": {
          "base_uri": "https://localhost:8080/"
        },
        "id": "1698g4zXBGH0",
        "outputId": "5b9a146e-a608-4748-8510-c88e807491f9"
      },
      "execution_count": null,
      "outputs": [
        {
          "output_type": "stream",
          "name": "stdout",
          "text": [
            "1.0 0.3\n"
          ]
        }
      ]
    }
  ]
}